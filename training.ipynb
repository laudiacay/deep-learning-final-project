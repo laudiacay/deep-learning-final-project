{
  "nbformat": 4,
  "nbformat_minor": 0,
  "metadata": {
    "colab": {
      "name": "training.ipynb",
      "provenance": [],
      "collapsed_sections": [],
      "machine_shape": "hm"
    },
    "kernelspec": {
      "name": "python3",
      "display_name": "Python 3"
    },
    "accelerator": "GPU"
  },
  "cells": [
    {
      "cell_type": "code",
      "metadata": {
        "colab": {
          "base_uri": "https://localhost:8080/"
        },
        "id": "GWLaHIDY9xNT",
        "outputId": "c33d7d10-c49c-4271-d7c0-bb30a7290da6"
      },
      "source": [
        "import tensorflow as tf\n",
        "\n",
        "from tensorflow.keras import datasets, layers, models\n",
        "from tensorflow.keras.preprocessing.image import ImageDataGenerator\n",
        "\n",
        "import matplotlib.pyplot as plt\n",
        "tf.device('/device:GPU:0')\n",
        "class_names = ['airplane', 'automobile', 'bird', 'cat', 'deer',\n",
        "               'dog', 'frog', 'horse', 'ship', 'truck']\n",
        "EPOCHS=10\n",
        "\n",
        "(train_images, train_labels), (test_images, test_labels) = datasets.cifar10.load_data()\n",
        "train_images = 1./255 * train_images\n",
        "test_images = 1./255 * test_images"
      ],
      "execution_count": 1,
      "outputs": [
        {
          "output_type": "stream",
          "text": [
            "Downloading data from https://www.cs.toronto.edu/~kriz/cifar-10-python.tar.gz\n",
            "170500096/170498071 [==============================] - 6s 0us/step\n"
          ],
          "name": "stdout"
        }
      ]
    },
    {
      "cell_type": "code",
      "metadata": {
        "colab": {
          "base_uri": "https://localhost:8080/"
        },
        "id": "Lti5qXra7kLD",
        "outputId": "4a2f375d-acf5-4cd4-d3aa-94facf3a7487"
      },
      "source": [
        "from google.colab import drive\n",
        "drive.mount('/content/drive')"
      ],
      "execution_count": 2,
      "outputs": [
        {
          "output_type": "stream",
          "text": [
            "Mounted at /content/drive\n"
          ],
          "name": "stdout"
        }
      ]
    },
    {
      "cell_type": "code",
      "metadata": {
        "id": "keyW-yWrMBUY"
      },
      "source": [
        "import numpy as np\n",
        "\n",
        "train_sorted = [train_images[train_labels == i, :] for i in range(len(class_names))]\n",
        "test_sorted = [test_images[test_labels == i, :] for i in range(len(class_names))]"
      ],
      "execution_count": 17,
      "outputs": []
    },
    {
      "cell_type": "code",
      "metadata": {
        "id": "gdkW1h8O8gLq"
      },
      "source": [
        "!rm /content/drive/MyDrive/training_checkpoints/*"
      ],
      "execution_count": 33,
      "outputs": []
    },
    {
      "cell_type": "code",
      "metadata": {
        "id": "QcrNc_Z0DkUt"
      },
      "source": [
        "import numpy as np\n",
        "\n",
        "def introduce_confusion_on_one_class(train_labels, class_to_error, cur_error_rate=1):\n",
        "    train_labels = train_labels.flatten()\n",
        "    should_error = (np.random.rand(train_labels.shape[0]) < cur_error_rate)\n",
        "    should_error =  np.logical_and(should_error, train_labels == class_to_error)\n",
        "    random_labels = np.random.randint(10, size=train_labels.shape[0])\n",
        "    return np.choose(should_error, [train_labels.flatten(), random_labels])\n",
        "# new_labels = introduce_confusion_on_one_class(train_labels, 1)\n",
        "# plt.hist(new_labels, bins = 20)\n",
        "# plt.show()\n",
        "\n",
        "def introduce_confusion_between_two_classes(train_labels, c1, c2, cur_error_rate=0.5):\n",
        "    train_labels = train_labels.flatten()\n",
        "    should_error = (np.random.rand(train_labels.shape[0]) < cur_error_rate)\n",
        "    flip_classes = np.logical_or(train_labels == c1, train_labels == c2)\n",
        "    should_error = np.logical_and(should_error, flip_classes)\n",
        "    flipped = (train_labels == c2) * c1 + (train_labels == c1) * c2\n",
        "    return np.choose(should_error, [train_labels.flatten(), flipped])\n",
        "\n",
        "# new_labels = introduce_confusion_between_two_classes(train_labels, 1, 2)\n",
        "# plt.hist(new_labels, bins = 20)\n",
        "# plt.show()\n",
        "#print(new_labels[:10])\n",
        "\n",
        "def build_and_compile_new_model(checkpoint_location):\n",
        "    model = models.Sequential()\n",
        "    model.add(layers.Conv2D(32, (3, 3), activation='relu', input_shape=(32, 32, 3)))\n",
        "    model.add(layers.MaxPooling2D((2, 2)))\n",
        "    model.add(layers.Conv2D(64, (3, 3), activation='relu'))\n",
        "    model.add(layers.MaxPooling2D((2, 2)))\n",
        "    model.add(layers.Conv2D(64, (3, 3), activation='relu'))\n",
        "    model.add(layers.Flatten())\n",
        "    model.add(layers.Dense(64, activation='relu'))\n",
        "    model.add(layers.Dense(10))\n",
        "\n",
        "    model_checkpoint_callback = tf.keras.callbacks.ModelCheckpoint(\n",
        "        filepath='/content/drive/MyDrive/training_checkpoints/'+checkpoint_location,\n",
        "        save_weights_only=True,\n",
        "        monitor='val_accuracy',\n",
        "        mode='max',\n",
        "        save_best_only=True)\n",
        "\n",
        "    model.compile(optimizer='adam',\n",
        "                loss=tf.keras.losses.SparseCategoricalCrossentropy(from_logits=True),\n",
        "                metrics=['accuracy'])\n",
        "    \n",
        "    return model, model_checkpoint_callback\n"
      ],
      "execution_count": 2,
      "outputs": []
    },
    {
      "cell_type": "code",
      "metadata": {
        "id": "lHD-GO0wk5_V"
      },
      "source": [
        "import os\n",
        "touch_prefix = '/content/drive/MyDrive/training_checkpoints/touch'\n",
        "def touch(point):\n",
        "    with open(touch_prefix+point, 'a'):\n",
        "        os.utime(touch_prefix+point, None)\n",
        "\n",
        "def exists(point):\n",
        "    return os.path.exists(touch_prefix+point)\n",
        "\n",
        "def train_experiment(name, train_labels, silent=False, load=False):\n",
        "    model, model_checkpoint_callback = build_and_compile_new_model(name)\n",
        "\n",
        "    if not exists(name):\n",
        "        model.fit(train_images, train_labels, epochs=EPOCHS, \n",
        "             validation_data=(test_images, test_labels), \n",
        "             callbacks=[model_checkpoint_callback], verbose=(not silent) * 1)\n",
        "\n",
        "    if load:\n",
        "        model.load_weights('/content/drive/MyDrive/training_checkpoints/'+name)\n",
        "    touch(name)"
      ],
      "execution_count": 4,
      "outputs": []
    },
    {
      "cell_type": "code",
      "metadata": {
        "colab": {
          "base_uri": "https://localhost:8080/"
        },
        "id": "Wz7ffAxs901D",
        "outputId": "0e46c800-7b12-494f-dc51-c3f0d5d3f3a0"
      },
      "source": [
        "import tqdm\n",
        "\n",
        "for i in tqdm.tqdm(range(20)):\n",
        "    train_experiment(f'checkpoint_correct_{i}', train_labels, silent=True)"
      ],
      "execution_count": 6,
      "outputs": [
        {
          "output_type": "stream",
          "text": [
            "100%|██████████| 20/20 [16:06<00:00, 48.33s/it]\n"
          ],
          "name": "stderr"
        }
      ]
    },
    {
      "cell_type": "code",
      "metadata": {
        "colab": {
          "base_uri": "https://localhost:8080/"
        },
        "id": "Wbh88g8t4uQZ",
        "outputId": "2237fefb-9440-4da8-dc28-2c4878ac10eb"
      },
      "source": [
        "import itertools, tqdm\n",
        "\n",
        "#fucked up model for all combos\n",
        "for fst, snd in tqdm.tqdm(list(itertools.combinations(class_names, 2))):\n",
        "    first_class = class_names.index(fst)\n",
        "    second_class = class_names.index(snd)\n",
        "    confused_train_labels = introduce_confusion_between_two_classes(train_labels, first_class, second_class)\n",
        "    train_experiment(f'checkpoint_{fst}_{snd}', confused_train_labels, silent=True, load=False)"
      ],
      "execution_count": 27,
      "outputs": [
        {
          "output_type": "stream",
          "text": [
            " 13%|█▎        | 2/15 [01:36<10:25, 48.11s/it]"
          ],
          "name": "stderr"
        },
        {
          "output_type": "stream",
          "text": [
            "WARNING:tensorflow:Unresolved object in checkpoint: (root).optimizer.iter\n",
            "WARNING:tensorflow:Unresolved object in checkpoint: (root).optimizer.beta_1\n",
            "WARNING:tensorflow:Unresolved object in checkpoint: (root).optimizer.beta_2\n",
            "WARNING:tensorflow:Unresolved object in checkpoint: (root).optimizer.decay\n",
            "WARNING:tensorflow:Unresolved object in checkpoint: (root).optimizer.learning_rate\n",
            "WARNING:tensorflow:A checkpoint was restored (e.g. tf.train.Checkpoint.restore or tf.keras.Model.load_weights) but not all checkpointed values were used. See above for specific issues. Use expect_partial() on the load status object, e.g. tf.train.Checkpoint.restore(...).expect_partial(), to silence these warnings, or use assert_consumed() to make the check explicit. See https://www.tensorflow.org/guide/checkpoint#loading_mechanics for details.\n"
          ],
          "name": "stdout"
        },
        {
          "output_type": "stream",
          "text": [
            "100%|██████████| 15/15 [12:08<00:00, 48.58s/it]\n"
          ],
          "name": "stderr"
        }
      ]
    },
    {
      "cell_type": "code",
      "metadata": {
        "colab": {
          "base_uri": "https://localhost:8080/"
        },
        "id": "tvODVFVHNa8p",
        "outputId": "a62629f1-7d9d-4113-8c81-84b99156e998"
      },
      "source": [
        "import itertools, tqdm\n",
        "\n",
        "#fucked up model for all combos\n",
        "for fst, snd in tqdm.tqdm(list(itertools.combinations(class_names, 2))):\n",
        "    for i in range(5, 10):\n",
        "        first_class = class_names.index(fst)\n",
        "        second_class = class_names.index(snd)\n",
        "        confused_train_labels = introduce_confusion_between_two_classes(train_labels, first_class, second_class)\n",
        "        train_experiment(f'checkpoint_{fst}_{snd}_{i}', confused_train_labels, silent=True, load=False)"
      ],
      "execution_count": 39,
      "outputs": [
        {
          "output_type": "stream",
          "text": [
            "\n",
            "  0%|          | 0/45 [00:00<?, ?it/s]\u001b[A\n",
            "  2%|▏         | 1/45 [04:34<3:21:35, 274.89s/it]\u001b[A\n",
            "  4%|▍         | 2/45 [09:11<3:17:24, 275.45s/it]\u001b[A\n",
            "  7%|▋         | 3/45 [13:49<3:13:23, 276.28s/it]\u001b[A\n",
            "  9%|▉         | 4/45 [18:25<3:08:44, 276.22s/it]\u001b[A\n",
            " 11%|█         | 5/45 [23:03<3:04:21, 276.55s/it]\u001b[A\n",
            " 13%|█▎        | 6/45 [27:39<2:59:43, 276.50s/it]\u001b[A\n",
            " 16%|█▌        | 7/45 [32:11<2:54:13, 275.10s/it]\u001b[A\n",
            " 18%|█▊        | 8/45 [36:44<2:49:16, 274.50s/it]\u001b[A\n",
            " 20%|██        | 9/45 [41:17<2:44:21, 273.92s/it]\u001b[A\n",
            " 22%|██▏       | 10/45 [45:47<2:39:14, 273.00s/it]\u001b[A\n",
            " 24%|██▍       | 11/45 [50:18<2:34:12, 272.14s/it]\u001b[A\n",
            " 27%|██▋       | 12/45 [54:51<2:29:53, 272.52s/it]\u001b[A\n",
            " 29%|██▉       | 13/45 [59:22<2:25:06, 272.07s/it]\u001b[A\n",
            " 31%|███       | 14/45 [1:03:51<2:20:06, 271.17s/it]\u001b[A\n",
            " 33%|███▎      | 15/45 [1:08:23<2:15:42, 271.40s/it]\u001b[A\n",
            " 36%|███▌      | 16/45 [1:12:55<2:11:14, 271.54s/it]\u001b[A\n",
            " 38%|███▊      | 17/45 [1:17:25<2:06:33, 271.21s/it]\u001b[A\n",
            " 40%|████      | 18/45 [1:21:57<2:02:09, 271.45s/it]\u001b[A\n",
            " 42%|████▏     | 19/45 [1:26:29<1:57:38, 271.48s/it]\u001b[A\n",
            " 44%|████▍     | 20/45 [1:30:59<1:52:52, 270.91s/it]\u001b[A\n",
            " 47%|████▋     | 21/45 [1:35:29<1:48:19, 270.81s/it]\u001b[A\n",
            " 49%|████▉     | 22/45 [1:40:03<1:44:11, 271.81s/it]\u001b[A\n",
            " 51%|█████     | 23/45 [1:44:35<1:39:40, 271.85s/it]\u001b[A\n",
            " 53%|█████▎    | 24/45 [1:49:06<1:35:04, 271.66s/it]\u001b[A\n",
            " 56%|█████▌    | 25/45 [1:53:39<1:30:38, 271.90s/it]\u001b[A\n",
            " 58%|█████▊    | 26/45 [1:58:13<1:26:17, 272.48s/it]\u001b[A\n",
            " 60%|██████    | 27/45 [2:02:43<1:21:33, 271.88s/it]\u001b[A\n",
            " 62%|██████▏   | 28/45 [2:07:14<1:16:54, 271.45s/it]\u001b[A\n",
            " 64%|██████▍   | 29/45 [2:11:48<1:12:37, 272.34s/it]\u001b[A\n",
            " 67%|██████▋   | 30/45 [2:16:22<1:08:13, 272.88s/it]\u001b[A\n",
            " 69%|██████▉   | 31/45 [2:21:01<1:04:03, 274.57s/it]\u001b[A\n",
            " 71%|███████   | 32/45 [2:25:40<59:49, 276.08s/it]  \u001b[A\n",
            " 73%|███████▎  | 33/45 [2:30:23<55:36, 278.04s/it]\u001b[A\n",
            " 76%|███████▌  | 34/45 [2:35:04<51:09, 279.00s/it]\u001b[A\n",
            " 78%|███████▊  | 35/45 [2:39:44<46:33, 279.31s/it]\u001b[A\n",
            " 80%|████████  | 36/45 [2:44:24<41:55, 279.52s/it]\u001b[A\n",
            " 82%|████████▏ | 37/45 [2:49:08<37:27, 280.89s/it]\u001b[A\n",
            " 84%|████████▍ | 38/45 [2:53:50<32:47, 281.12s/it]\u001b[A\n",
            " 87%|████████▋ | 39/45 [2:58:32<28:07, 281.31s/it]\u001b[A\n",
            " 89%|████████▉ | 40/45 [3:03:12<23:25, 281.01s/it]\u001b[A\n",
            " 91%|█████████ | 41/45 [3:07:54<18:45, 281.40s/it]\u001b[A\n",
            " 93%|█████████▎| 42/45 [3:12:37<14:05, 281.93s/it]\u001b[A\n",
            " 96%|█████████▌| 43/45 [3:17:19<09:23, 281.78s/it]\u001b[A\n",
            " 98%|█████████▊| 44/45 [3:22:00<04:41, 281.61s/it]\u001b[A\n",
            "100%|██████████| 45/45 [3:26:45<00:00, 275.68s/it]\n"
          ],
          "name": "stderr"
        }
      ]
    },
    {
      "cell_type": "code",
      "metadata": {
        "colab": {
          "base_uri": "https://localhost:8080/"
        },
        "id": "yVhQC9KPDSkB",
        "outputId": "6a4a359c-71eb-42ea-f4fc-810e4f56a96c"
      },
      "source": [
        "import tensorflow as tf\n",
        "\n",
        "from tensorflow.keras import datasets, layers, models\n",
        "\n",
        "eep = build_and_compile_new_model('checkpoint_correct')\n",
        "eep[0].summary()"
      ],
      "execution_count": 6,
      "outputs": [
        {
          "output_type": "stream",
          "text": [
            "Model: \"sequential_2\"\n",
            "_________________________________________________________________\n",
            "Layer (type)                 Output Shape              Param #   \n",
            "=================================================================\n",
            "conv2d_6 (Conv2D)            (None, 30, 30, 32)        896       \n",
            "_________________________________________________________________\n",
            "max_pooling2d_4 (MaxPooling2 (None, 15, 15, 32)        0         \n",
            "_________________________________________________________________\n",
            "conv2d_7 (Conv2D)            (None, 13, 13, 64)        18496     \n",
            "_________________________________________________________________\n",
            "max_pooling2d_5 (MaxPooling2 (None, 6, 6, 64)          0         \n",
            "_________________________________________________________________\n",
            "conv2d_8 (Conv2D)            (None, 4, 4, 64)          36928     \n",
            "_________________________________________________________________\n",
            "flatten_2 (Flatten)          (None, 1024)              0         \n",
            "_________________________________________________________________\n",
            "dense_4 (Dense)              (None, 64)                65600     \n",
            "_________________________________________________________________\n",
            "dense_5 (Dense)              (None, 10)                650       \n",
            "=================================================================\n",
            "Total params: 122,570\n",
            "Trainable params: 122,570\n",
            "Non-trainable params: 0\n",
            "_________________________________________________________________\n"
          ],
          "name": "stdout"
        }
      ]
    },
    {
      "cell_type": "code",
      "metadata": {
        "id": "DuiYHtK8ysTG"
      },
      "source": [
        ""
      ],
      "execution_count": null,
      "outputs": []
    }
  ]
}