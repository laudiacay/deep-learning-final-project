{
  "nbformat": 4,
  "nbformat_minor": 0,
  "metadata": {
    "colab": {
      "name": "Untitled",
      "provenance": [],
      "collapsed_sections": [],
      "machine_shape": "hm"
    },
    "kernelspec": {
      "name": "python3",
      "display_name": "Python 3"
    },
    "accelerator": "GPU"
  },
  "cells": [
    {
      "cell_type": "code",
      "metadata": {
        "colab": {
          "base_uri": "https://localhost:8080/"
        },
        "id": "_kYUlPOb7FwT",
        "outputId": "dd273c16-b099-4afd-939b-a66dcc78dcd2"
      },
      "source": [
        "from google.colab import drive\n",
        "drive.mount('/content/drive')\n",
        "\n",
        "from tensorflow.keras import models, layers, datasets\n",
        "import tensorflow as tf\n",
        "\n",
        "tf.device('/device:GPU:0')\n",
        "\n",
        "(train_images, train_labels), (test_images, test_labels) = datasets.cifar10.load_data()\n",
        "train_images = 1./255 * train_images\n",
        "test_images = 1./255 * test_images"
      ],
      "execution_count": 3,
      "outputs": [
        {
          "output_type": "stream",
          "text": [
            "Mounted at /content/drive\n",
            "Downloading data from https://www.cs.toronto.edu/~kriz/cifar-10-python.tar.gz\n",
            "170500096/170498071 [==============================] - 6s 0us/step\n"
          ],
          "name": "stdout"
        }
      ]
    },
    {
      "cell_type": "code",
      "metadata": {
        "id": "ejtImwSsD6qM"
      },
      "source": [
        "model = models.Sequential()\n",
        "model.add(layers.Conv2D(32, (3, 3), activation='relu', input_shape=(32, 32, 3)))\n",
        "model.add(layers.MaxPooling2D((2, 2)))\n",
        "model.add(layers.Conv2D(64, (3, 3), activation='relu'))\n",
        "model.add(layers.MaxPooling2D((2, 2)))\n",
        "model.add(layers.Conv2D(64, (3, 3), activation='relu'))\n",
        "model.add(layers.Flatten())\n",
        "model.add(layers.Dense(64, activation='relu'))\n",
        "model.add(layers.Dense(10))\n",
        "\n",
        "model.compile(optimizer='adam',\n",
        "            loss=tf.keras.losses.SparseCategoricalCrossentropy(from_logits=True),\n",
        "            metrics=['accuracy'])\n",
        "\n",
        "def load_model(name):\n",
        "    try:\n",
        "        model.load_weights('/content/drive/MyDrive/training_checkpoints/'+name)\n",
        "        return True\n",
        "    except:\n",
        "        return False"
      ],
      "execution_count": 2,
      "outputs": []
    },
    {
      "cell_type": "code",
      "metadata": {
        "id": "sPSK_w2RafYB"
      },
      "source": [
        "class_names = ['airplane', 'automobile', 'bird', 'cat', 'deer',\n",
        "               'dog', 'frog', 'horse', 'ship', 'truck']\n",
        "\n",
        "import numpy as np\n",
        "from scipy.special import softmax\n",
        "import itertools, tqdm\n",
        "\n",
        "# load_model('checkpoint_correct')\n",
        "options = np.asarray([i for i in range(10)])\n",
        "def compute_per_class_losses():\n",
        "    all_predictions = model.predict(test_images)\n",
        "    all_predictions = np.clip(softmax(all_predictions, axis=1), \n",
        "                              np.finfo(np.float32).eps, \n",
        "                              1. - np.finfo(np.float32).eps)\n",
        "    indicators = test_labels == options\n",
        "    return -1/10000 * np.sum(indicators * np.log2(all_predictions) + (1 - indicators) * np.log2(1 - all_predictions), axis=0)\n",
        "\n",
        "def compute_all_class_losses():\n",
        "    results = {a: [] for a in itertools.combinations(class_names, 2)}\n",
        "    for (fst, snd), idx in tqdm.tqdm(list(itertools.product(itertools.combinations(class_names, 2), range(10)))):\n",
        "        first_class = class_names.index(fst)\n",
        "        second_class = class_names.index(snd)\n",
        "        if load_model(f'checkpoint_{fst}_{snd}_{idx}'):\n",
        "            results[(fst, snd)].append(compute_per_class_losses())\n",
        "    for (fst, snd), v in list(results.items()):\n",
        "        #print(len(v))\n",
        "        results[(fst, snd)] = (v, np.mean(np.asarray(v), axis=0), np.var(np.asarray(v), axis=0))\n",
        "        #results[(snd, fst)] = results[(fst, snd)]\n",
        "    return results\n",
        "\n",
        "mean_model_losses = compute_all_class_losses()"
      ],
      "execution_count": null,
      "outputs": []
    },
    {
      "cell_type": "code",
      "metadata": {
        "id": "03lICjzk1MGJ"
      },
      "source": [
        "def compute_per_model_probabilities():\n",
        "    all_predictions = model.predict(test_images)\n",
        "    all_predictions = np.clip(softmax(all_predictions, axis=1), \n",
        "                              np.finfo(np.float32).eps, \n",
        "                              1. - np.finfo(np.float32).eps)\n",
        "    true_label_to_average_prediction = {}\n",
        "    test_labs = test_labels.flatten()\n",
        "    for i in range(10):\n",
        "        cur_preds = all_predictions[test_labs == i]\n",
        "        true_label_to_average_prediction[i] = np.mean(cur_preds, axis=0)\n",
        "    return true_label_to_average_prediction\n",
        "\n",
        "def compute_all_model_probs():\n",
        "    results = {a: [] for a in itertools.combinations(class_names, 2)}\n",
        "    for (fst, snd), idx in tqdm.tqdm(list(itertools.product(itertools.combinations(class_names, 2), range(10)))):\n",
        "        first_class = class_names.index(fst)\n",
        "        second_class = class_names.index(snd)\n",
        "        if load_model(f'checkpoint_{fst}_{snd}_{idx}'):\n",
        "            results[(fst, snd)].append(compute_per_model_probabilities())\n",
        "    return results\n",
        "\n",
        "all_model_probabilities = compute_all_model_probs()"
      ],
      "execution_count": null,
      "outputs": []
    },
    {
      "cell_type": "code",
      "metadata": {
        "id": "6qyI5i6PXw2X"
      },
      "source": [
        "import pickle\n",
        "with open('/content/drive/MyDrive/training_checkpoints/pickled_mean_model_losses', 'wb') as f:\n",
        "    pickle.dump(mean_model_losses, f)\n",
        "with open('/content/drive/MyDrive/training_checkpoints/pickled_all_model_probs', 'wb') as f:\n",
        "    pickle.dump(all_model_probabilities, f)"
      ],
      "execution_count": null,
      "outputs": []
    },
    {
      "cell_type": "code",
      "metadata": {
        "id": "zPYTDqV4mAUF"
      },
      "source": [
        "import pickle\n",
        "with open('/content/drive/MyDrive/training_checkpoints/pickled_mean_model_losses', 'rb') as f:\n",
        "    mean_model_losses = pickle.load(f)\n",
        "with open('/content/drive/MyDrive/training_checkpoints/pickled_all_model_probs', 'rb') as f:\n",
        "    all_model_probabilities = pickle.load(f)"
      ],
      "execution_count": 4,
      "outputs": []
    },
    {
      "cell_type": "code",
      "metadata": {
        "id": "366Ve6CiZ3yP"
      },
      "source": [
        "corr_results = []\n",
        "for idx in range(20):\n",
        "    if load_model(f'checkpoint_correct_{idx}'):\n",
        "        corr_results.append(compute_per_class_losses())\n",
        "corr_results = (corr_results, np.mean(np.asarray(corr_results), axis=1), np.var(np.asarray(corr_results), axis=1))"
      ],
      "execution_count": null,
      "outputs": []
    },
    {
      "cell_type": "code",
      "metadata": {
        "colab": {
          "base_uri": "https://localhost:8080/"
        },
        "id": "pFKENx8EpbTl",
        "outputId": "22bafd97-a062-4e79-dee6-8ce77b9440cd"
      },
      "source": [
        "def welchs_t_test_confused_yes_v_no(target_class, confused_class):\n",
        "    confused_yes = []\n",
        "    confused_no = []\n",
        "    for conf_pair, losses in mean_model_losses.items():\n",
        "        samples, losses, variances = losses\n",
        "        if class_names[target_class] in conf_pair:\n",
        "            continue\n",
        "        if class_names[confused_class] in conf_pair:\n",
        "            for s in samples:\n",
        "                confused_yes.append(s[target_class])\n",
        "        else:\n",
        "            for s in samples:\n",
        "                confused_no.append(s[target_class])\n",
        "    confused_yes = np.array(confused_yes)\n",
        "    confused_no = np.array(confused_no)\n",
        "    c_yes_mean, c_yes_stdv = np.mean(confused_yes), np.std(confused_yes)\n",
        "    c_no_mean, c_no_stdv = np.mean(confused_no), np.std(confused_no)\n",
        "    N_yes, N_no = confused_yes.shape[0], confused_no.shape[0]\n",
        "    t = (c_yes_mean - c_no_mean) / np.sqrt(c_yes_stdv**2/N_yes + c_no_stdv**2/N_no)\n",
        "    nu = (c_yes_stdv**2/N_yes + c_no_stdv**2/N_no)**2 / (c_yes_stdv**4/(N_yes**2 * (N_yes-1))+ c_no_stdv**4/(N_no**2 * (N_no-1)))\n",
        "    #print(nu)\n",
        "    return t\n",
        "\n",
        "# print(welchs_t_test_confused_yes_v_no(1,9))\n",
        "# print(welchs_t_test_confused_yes_v_no(1,2))\n",
        "# print(welchs_t_test_confused_yes_v_no(0,1))\n",
        "all_t_statistic = [[welchs_t_test_confused_yes_v_no(i, j) if i != j else 0 for i in range(10)] for j in range(10)]\n",
        "\n",
        "tstats_dict = {(i,j): all_t_statistic[i][j] for i in range(10) for j in range(10)}\n",
        "# FROM NU APPROXIMATION AROUND 100-150\n",
        "p_05 = 1.98\n",
        "p_02 = 2.358\n",
        "p_01 = 2.617\n",
        "p_002 = 3.16\n",
        "p_001 = 3.373\n",
        "# print(dict(sorted(tstats_dict.items(), key=lambda item: item[1])))\n",
        "# IF IT IS POSITIVE: then, the loss went UP on the target class when we confused the second\n",
        "# THIS MEANS THAT THE MODEL'S UNDERSTANDING OF THE TARGET IS SUPPLEMENTED BY THE UNDERSTANDING OF THE SECOND\n",
        "# NEGATIVE means that the presence of training on that second actually causes it to screw up the target!!\n",
        "# conclusions: the model really does not like learning deer versus truck! \n",
        "# most negative correlations are messing up something human-made with something natural or vice versa!\n",
        "# birds and dogs are somewhat friendly!\n",
        "# cars and trucks are similar :)\n",
        "# cars and.... frogs? are similar? could it be the eyes versus the headlights?\n",
        "for k, v in tstats_dict.items():\n",
        "    if abs(v) > p_001:\n",
        "        print(f'p_001 significant t-value for target {class_names[k[0]]} against {class_names[k[1]]}: {v}')\n",
        "    elif abs(v) > p_002:\n",
        "        print(f'p_002 significant t-value for target {class_names[k[0]]} against {class_names[k[1]]}: {v}')\n",
        "    elif abs(v) > p_01:\n",
        "        print(f'p_01 significant t-value for target {class_names[k[0]]} against {class_names[k[1]]}: {v}')\n",
        "    elif abs(v) > p_02:\n",
        "        print(f'p_02 significant t-value for target {class_names[k[0]]} against {class_names[k[1]]}: {v}')\n",
        "    elif abs(v) > p_05:\n",
        "        print(f'p_05 significant t-value for target {class_names[k[0]]} against {class_names[k[1]]}: {v}')"
      ],
      "execution_count": null,
      "outputs": [
        {
          "output_type": "stream",
          "text": [
            "p_01 significant t-value for target airplane against dog: -2.7849672212629204\n",
            "p_05 significant t-value for target automobile against frog: 2.1162936297135233\n",
            "p_02 significant t-value for target automobile against truck: 2.5416603249155068\n",
            "p_05 significant t-value for target bird against dog: 2.129818130027395\n",
            "p_05 significant t-value for target bird against ship: -1.9985830997721628\n",
            "p_05 significant t-value for target deer against airplane: -2.2166739911532645\n",
            "p_01 significant t-value for target deer against truck: -2.912974281882193\n",
            "p_05 significant t-value for target frog against airplane: -2.2339242667723544\n",
            "p_05 significant t-value for target truck against deer: -2.1423349624416574\n"
          ],
          "name": "stdout"
        }
      ]
    },
    {
      "cell_type": "code",
      "metadata": {
        "colab": {
          "base_uri": "https://localhost:8080/"
        },
        "id": "Fd1gwS1R7mVS",
        "outputId": "7c765790-069f-4f1d-fc03-ec10649b4c72"
      },
      "source": [
        "import numpy as np\n",
        "\n",
        "averaged_all_model_probabilities = {}\n",
        "for k, v in all_model_probabilities.items():\n",
        "    mean_result = {}\n",
        "    for i in range(10):\n",
        "        whoISshe = np.array([aa[i] for aa in v])\n",
        "        #print(whoISshe.shape)\n",
        "        mean_result[i] = np.mean(whoISshe, axis=0)\n",
        "    averaged_all_model_probabilities[k] = mean_result\n",
        "\n",
        "print(averaged_all_model_probabilities.keys())\n",
        "print(averaged_all_model_probabilities[('automobile', 'truck')])"
      ],
      "execution_count": 5,
      "outputs": [
        {
          "output_type": "stream",
          "text": [
            "dict_keys([('airplane', 'automobile'), ('airplane', 'bird'), ('airplane', 'cat'), ('airplane', 'deer'), ('airplane', 'dog'), ('airplane', 'frog'), ('airplane', 'horse'), ('airplane', 'ship'), ('airplane', 'truck'), ('automobile', 'bird'), ('automobile', 'cat'), ('automobile', 'deer'), ('automobile', 'dog'), ('automobile', 'frog'), ('automobile', 'horse'), ('automobile', 'ship'), ('automobile', 'truck'), ('bird', 'cat'), ('bird', 'deer'), ('bird', 'dog'), ('bird', 'frog'), ('bird', 'horse'), ('bird', 'ship'), ('bird', 'truck'), ('cat', 'deer'), ('cat', 'dog'), ('cat', 'frog'), ('cat', 'horse'), ('cat', 'ship'), ('cat', 'truck'), ('deer', 'dog'), ('deer', 'frog'), ('deer', 'horse'), ('deer', 'ship'), ('deer', 'truck'), ('dog', 'frog'), ('dog', 'horse'), ('dog', 'ship'), ('dog', 'truck'), ('frog', 'horse'), ('frog', 'ship'), ('frog', 'truck'), ('horse', 'ship'), ('horse', 'truck'), ('ship', 'truck')])\n",
            "{0: array([0.6852283 , 0.03788231, 0.06378357, 0.02582576, 0.02642436,\n",
            "       0.01281666, 0.0117128 , 0.014396  , 0.08606169, 0.03586838],\n",
            "      dtype=float32), 1: array([0.03761499, 0.42850548, 0.00929461, 0.01359798, 0.00678363,\n",
            "       0.00917693, 0.01246802, 0.00646378, 0.03965459, 0.43644005],\n",
            "      dtype=float32), 2: array([0.08494069, 0.01146834, 0.4718751 , 0.09188126, 0.09580679,\n",
            "       0.09317708, 0.07755569, 0.04260419, 0.01876364, 0.01192719],\n",
            "      dtype=float32), 3: array([0.03021716, 0.01611034, 0.0748459 , 0.42784375, 0.07549532,\n",
            "       0.20825443, 0.08198307, 0.04651905, 0.02168452, 0.01704637],\n",
            "      dtype=float32), 4: array([0.02799587, 0.00652694, 0.09755683, 0.08384831, 0.54313076,\n",
            "       0.06653302, 0.06633057, 0.08817476, 0.01322029, 0.00668246],\n",
            "      dtype=float32), 5: array([0.01785717, 0.00862757, 0.063902  , 0.20308521, 0.05129922,\n",
            "       0.5381577 , 0.03457842, 0.06293247, 0.01074161, 0.00881857],\n",
            "      dtype=float32), 6: array([0.01017953, 0.0084843 , 0.05572226, 0.08578709, 0.04808061,\n",
            "       0.04070618, 0.720634  , 0.0116096 , 0.01015158, 0.00864493],\n",
            "      dtype=float32), 7: array([0.02483362, 0.01303719, 0.03810469, 0.0556017 , 0.0769746 ,\n",
            "       0.08036619, 0.01146637, 0.6799745 , 0.00581584, 0.01382522],\n",
            "      dtype=float32), 8: array([0.09204002, 0.03746351, 0.01876087, 0.01946097, 0.01037618,\n",
            "       0.01081096, 0.0066403 , 0.00671373, 0.76104444, 0.03668893],\n",
            "      dtype=float32), 9: array([0.04536635, 0.40260452, 0.01230484, 0.01958425, 0.00802403,\n",
            "       0.0142245 , 0.01166864, 0.01855068, 0.04029689, 0.42737532],\n",
            "      dtype=float32)}\n"
          ],
          "name": "stdout"
        }
      ]
    },
    {
      "cell_type": "code",
      "metadata": {
        "id": "h4Q8pjzOVa-D"
      },
      "source": [
        "class_names = ['airplane', 'automobile', 'bird', 'cat', 'deer',\n",
        "               'dog', 'frog', 'horse', 'ship', 'truck']\n",
        "\n",
        "def compute_kl_divergence_all_confused_vs_only_target(target_class, confused_class):\n",
        "    \n",
        "    #M_with_frog[car_ind][car_ind] * log_2(M_with_frog[car_ind][car_ind]/M_mean[car_ind][car_ind]) + sum(1 - M_with_frog[not_car_ind][car_ind]) * (1- log_2(M_with_frog[not_car_ind][car_ind])/(1-M_mean[not_car_ind][car_ind])),not_car_inds)\n",
        "\n",
        "    assert(target_class != confused_class)\n",
        "    confused_yes = []\n",
        "    confused_overall = []\n",
        "    for conf_pair, probabilities in averaged_all_model_probabilities.items():\n",
        "        probabilities = np.array([probabilities[i] for i in range(10)])\n",
        "        if class_names[target_class] in conf_pair:\n",
        "            continue\n",
        "        if class_names[confused_class] in conf_pair:\n",
        "            confused_yes.append(probabilities)\n",
        "        confused_overall.append(probabilities)\n",
        "    confused_yes = np.mean(np.array(confused_yes), axis=0)\n",
        "    confused_overall = np.mean(np.array(confused_overall), axis=0)\n",
        "    # x = 0\n",
        "    #return -1/10000 * np.sum(indicators * np.log2(all_predictions) + (1 - indicators) * np.log2(1 - all_predictions), axis=0)\n",
        "    kldiv = 0.\n",
        "    for i in range(10):\n",
        "        if i == target_class:\n",
        "            with_ = confused_yes[i][target_class]\n",
        "            overall_ = confused_overall[i][target_class]\n",
        "        else:\n",
        "            with_ = 1 - confused_yes[i][target_class]\n",
        "            overall_ = 1 - confused_overall[i][target_class]\n",
        "        kldiv += with_ * np.log2(with_/overall_)\n",
        "    return kldiv\n",
        "    #kldiv = confused_yes[target_class, target_class] * np.log2()\n",
        "    \n",
        "    # modeling these both as gaussians!!\n",
        "    #kl = np.log2(ov_var/yes_var) + ((yes_var**2)+(yes_mean - ov_mean)**2)/(2*ov_var**2) - 1/2\n",
        "\n",
        "all_kl_divs = [[compute_kl_divergence_all_confused_vs_only_target(i, j) if i != j else 0. for i in range(10)] for j in range(10)]"
      ],
      "execution_count": 25,
      "outputs": []
    },
    {
      "cell_type": "code",
      "metadata": {
        "colab": {
          "base_uri": "https://localhost:8080/",
          "height": 312
        },
        "id": "TC22WmSyBgof",
        "outputId": "a39e690e-1c89-481c-c6b3-efc390ab160f"
      },
      "source": [
        "import matplotlib.pyplot as plt\n",
        "import matplotlib\n",
        "from matplotlib import colors\n",
        "#class_names = ['airplane', 'automobile', 'bird', 'cat', 'deer',\n",
        "#               'dog', 'frog', 'horse', 'ship', 'truck']\n",
        "\n",
        "data = np.array(all_kl_divs)\n",
        "print(data.shape)\n",
        "rows, cols = data.shape\n",
        "\n",
        "fig = plt.imshow(data, interpolation='nearest', \n",
        "                 extent=[0.5, 0.5+cols, 0.5, 0.5+rows],\n",
        "                 cmap='PRGn')\n",
        "\n",
        "plt.colorbar()\n",
        "fig.axes.set_xlabel('class being targeted')\n",
        "fig.axes.set_ylabel('class being removed from data')\n",
        "\n",
        "title = fig.axes.set_title('change in loss depending on losing a class')\n",
        "\n",
        "# higher values means the loss was higher when this was included!!\n",
        "# lower values means the loss was lower when this was included!!"
      ],
      "execution_count": 28,
      "outputs": [
        {
          "output_type": "stream",
          "text": [
            "(10, 10)\n"
          ],
          "name": "stdout"
        },
        {
          "output_type": "display_data",
          "data": {
            "image/png": "[encoded data removed]",
            "text/plain": [
              "<Figure size 432x288 with 2 Axes>"
            ]
          },
          "metadata": {
            "tags": [],
            "needs_background": "light"
          }
        }
      ]
    }
  ]
}