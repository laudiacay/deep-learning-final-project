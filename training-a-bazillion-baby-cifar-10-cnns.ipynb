{
  "nbformat": 4,
  "nbformat_minor": 0,
  "metadata": {
    "colab": {
      "name": "Untitled2.ipynb",
      "provenance": [],
      "collapsed_sections": [],
      "machine_shape": "hm"
    },
    "kernelspec": {
      "name": "python3",
      "display_name": "Python 3"
    },
    "accelerator": "GPU"
  },
  "cells": [
    {
      "cell_type": "code",
      "metadata": {
        "colab": {
          "base_uri": "https://localhost:8080/"
        },
        "id": "GWLaHIDY9xNT",
        "outputId": "70260e12-1a6f-4db8-d331-75e51cf4bb3f"
      },
      "source": [
        "import tensorflow as tf\n",
        "\n",
        "from tensorflow.keras import datasets, layers, models\n",
        "from tensorflow.keras.preprocessing.image import ImageDataGenerator\n",
        "\n",
        "import matplotlib.pyplot as plt\n",
        "tf.device('/device:GPU:0')\n",
        "class_names = ['airplane', 'automobile', 'bird', 'cat', 'deer',\n",
        "               'dog', 'frog', 'horse', 'ship', 'truck']\n",
        "EPOCHS=10\n",
        "\n",
        "(train_images, train_labels), (test_images, test_labels) = datasets.cifar10.load_data()\n",
        "train_images = 1./255 * train_images\n",
        "test_images = 1./255 * test_images"
      ],
      "execution_count": 2,
      "outputs": [
        {
          "output_type": "stream",
          "text": [
            "Downloading data from https://www.cs.toronto.edu/~kriz/cifar-10-python.tar.gz\n",
            "170500096/170498071 [==============================] - 2s 0us/step\n"
          ],
          "name": "stdout"
        }
      ]
    },
    {
      "cell_type": "code",
      "metadata": {
        "colab": {
          "base_uri": "https://localhost:8080/"
        },
        "id": "Lti5qXra7kLD",
        "outputId": "0c0d7397-de80-4b81-a845-4a6ec474af2a"
      },
      "source": [
        "from google.colab import drive\n",
        "drive.mount('/content/drive')"
      ],
      "execution_count": 3,
      "outputs": [
        {
          "output_type": "stream",
          "text": [
            "Mounted at /content/drive\n"
          ],
          "name": "stdout"
        }
      ]
    },
    {
      "cell_type": "code",
      "metadata": {
        "colab": {
          "base_uri": "https://localhost:8080/"
        },
        "id": "gdkW1h8O8gLq",
        "outputId": "4bf233e2-9c2c-4993-a90c-e06da779e5dc"
      },
      "source": [
        "!ls /content/drive/MyDrive/training_checkpoints"
      ],
      "execution_count": 3,
      "outputs": [
        {
          "output_type": "stream",
          "text": [
            "checkpoint\n",
            "checkpoint_airplane_automobile.data-00000-of-00001\n",
            "checkpoint_airplane_automobile.index\n",
            "checkpoint_airplane_bird.data-00000-of-00001\n",
            "checkpoint_airplane_bird.index\n",
            "checkpoint_airplane_cat.data-00000-of-00001\n",
            "checkpoint_airplane_cat.index\n",
            "checkpoint_airplane_deer.data-00000-of-00001\n",
            "checkpoint_airplane_deer.index\n",
            "checkpoint_airplane_dog.data-00000-of-00001\n",
            "checkpoint_airplane_dog.index\n",
            "checkpoint_airplane_frog.data-00000-of-00001\n",
            "checkpoint_airplane_frog.index\n",
            "checkpoint_airplane_horse.data-00000-of-00001\n",
            "checkpoint_airplane_horse.index\n",
            "checkpoint_airplane_ship.data-00000-of-00001\n",
            "checkpoint_airplane_ship.index\n",
            "checkpoint_airplane_truck.data-00000-of-00001\n",
            "checkpoint_airplane_truck.index\n",
            "checkpoint_correct.data-00000-of-00001\n",
            "checkpoint_correct.index\n",
            "tmp\n"
          ],
          "name": "stdout"
        }
      ]
    },
    {
      "cell_type": "code",
      "metadata": {
        "id": "QcrNc_Z0DkUt"
      },
      "source": [
        "import numpy as np\n",
        "\n",
        "def introduce_confusion_on_one_class(train_labels, class_to_error, cur_error_rate=1):\n",
        "    train_labels = train_labels.flatten()\n",
        "    should_error = (np.random.rand(train_labels.shape[0]) < cur_error_rate)\n",
        "    should_error =  np.logical_and(should_error, train_labels == class_to_error)\n",
        "    random_labels = np.random.randint(10, size=train_labels.shape[0])\n",
        "    return np.choose(should_error, [train_labels.flatten(), random_labels])\n",
        "# new_labels = introduce_confusion_on_one_class(train_labels, 1)\n",
        "# plt.hist(new_labels, bins = 20)\n",
        "# plt.show()\n",
        "\n",
        "def introduce_confusion_between_two_classes(train_labels, c1, c2, cur_error_rate=1):\n",
        "    train_labels = train_labels.flatten()\n",
        "    should_error = (np.random.rand(train_labels.shape[0]) < cur_error_rate)\n",
        "    flip_classes = np.logical_or(train_labels == c1, train_labels == c2)\n",
        "    should_error = np.logical_and(should_error, flip_classes)\n",
        "    flipped = (train_labels == c2) * c1 + (train_labels == c1) * c2\n",
        "    return np.choose(should_error, [train_labels.flatten(), flipped])\n",
        "\n",
        "# new_labels = introduce_confusion_between_two_classes(train_labels, 1, 2)\n",
        "# plt.hist(new_labels, bins = 20)\n",
        "# plt.show()\n",
        "#print(new_labels[:10])\n",
        "\n",
        "def build_and_compile_new_model(checkpoint_location):\n",
        "    model = models.Sequential()\n",
        "    model.add(layers.Conv2D(32, (3, 3), activation='relu', input_shape=(32, 32, 3)))\n",
        "    model.add(layers.MaxPooling2D((2, 2)))\n",
        "    model.add(layers.Conv2D(64, (3, 3), activation='relu'))\n",
        "    model.add(layers.MaxPooling2D((2, 2)))\n",
        "    model.add(layers.Conv2D(64, (3, 3), activation='relu'))\n",
        "    model.add(layers.Flatten())\n",
        "    model.add(layers.Dense(64, activation='relu'))\n",
        "    model.add(layers.Dense(10))\n",
        "\n",
        "    model_checkpoint_callback = tf.keras.callbacks.ModelCheckpoint(\n",
        "        filepath='/content/drive/MyDrive/training_checkpoints/'+checkpoint_location,\n",
        "        save_weights_only=True,\n",
        "        monitor='val_accuracy',\n",
        "        mode='max',\n",
        "        save_best_only=True)\n",
        "\n",
        "    model.compile(optimizer='adam',\n",
        "                loss=tf.keras.losses.SparseCategoricalCrossentropy(from_logits=True),\n",
        "                metrics=['accuracy'])\n",
        "    \n",
        "    return model, model_checkpoint_callback\n"
      ],
      "execution_count": 4,
      "outputs": []
    },
    {
      "cell_type": "code",
      "metadata": {
        "id": "lHD-GO0wk5_V"
      },
      "source": [
        "import os\n",
        "touch_prefix = '/content/drive/MyDrive/training_checkpoints/touch'\n",
        "def touch(point):\n",
        "    with open(touch_prefix+point, 'a'):\n",
        "        os.utime(touch_prefix+point, None)\n",
        "\n",
        "def exists(point):\n",
        "    return os.path.exists(touch_prefix+point)\n",
        "\n",
        "def train_experiment(name, train_labels, silent=False, load=False):\n",
        "    model, model_checkpoint_callback = build_and_compile_new_model(name)\n",
        "\n",
        "    if not exists(name):\n",
        "        model.fit(train_images, train_labels, epochs=EPOCHS, \n",
        "             validation_data=(test_images, test_labels), \n",
        "             callbacks=[model_checkpoint_callback], verbose=(not silent) * 1)\n",
        "\n",
        "    if load:\n",
        "        model.load_weights('/content/drive/MyDrive/training_checkpoints/'+name)\n",
        "    touch(name)\n",
        "    return model"
      ],
      "execution_count": 9,
      "outputs": []
    },
    {
      "cell_type": "code",
      "metadata": {
        "colab": {
          "base_uri": "https://localhost:8080/"
        },
        "id": "Wz7ffAxs901D",
        "outputId": "06e2f596-c37c-4936-9455-a51e79e7e0c3"
      },
      "source": [
        "train_experiment('checkpoint_correct', train_labels)"
      ],
      "execution_count": 17,
      "outputs": [
        {
          "output_type": "execute_result",
          "data": {
            "text/plain": [
              "<tensorflow.python.keras.engine.sequential.Sequential at 0x7fb700a0ac88>"
            ]
          },
          "metadata": {
            "tags": []
          },
          "execution_count": 17
        }
      ]
    },
    {
      "cell_type": "code",
      "metadata": {
        "colab": {
          "base_uri": "https://localhost:8080/"
        },
        "id": "Wbh88g8t4uQZ",
        "outputId": "2237fefb-9440-4da8-dc28-2c4878ac10eb"
      },
      "source": [
        "import itertools, tqdm\n",
        "\n",
        "#fucked up model for all combos\n",
        "for fst, snd in tqdm.tqdm(list(itertools.combinations(class_names, 2))[:15]):\n",
        "    first_class = class_names.index(fst)\n",
        "    second_class = class_names.index(snd)\n",
        "    confused_train_labels = introduce_confusion_between_two_classes(train_labels, first_class, second_class)\n",
        "    train_experiment(f'checkpoint_{fst}_{snd}', confused_train_labels, silent=True)"
      ],
      "execution_count": 27,
      "outputs": [
        {
          "output_type": "stream",
          "text": [
            " 13%|█▎        | 2/15 [01:36<10:25, 48.11s/it]"
          ],
          "name": "stderr"
        },
        {
          "output_type": "stream",
          "text": [
            "WARNING:tensorflow:Unresolved object in checkpoint: (root).optimizer.iter\n",
            "WARNING:tensorflow:Unresolved object in checkpoint: (root).optimizer.beta_1\n",
            "WARNING:tensorflow:Unresolved object in checkpoint: (root).optimizer.beta_2\n",
            "WARNING:tensorflow:Unresolved object in checkpoint: (root).optimizer.decay\n",
            "WARNING:tensorflow:Unresolved object in checkpoint: (root).optimizer.learning_rate\n",
            "WARNING:tensorflow:A checkpoint was restored (e.g. tf.train.Checkpoint.restore or tf.keras.Model.load_weights) but not all checkpointed values were used. See above for specific issues. Use expect_partial() on the load status object, e.g. tf.train.Checkpoint.restore(...).expect_partial(), to silence these warnings, or use assert_consumed() to make the check explicit. See https://www.tensorflow.org/guide/checkpoint#loading_mechanics for details.\n"
          ],
          "name": "stdout"
        },
        {
          "output_type": "stream",
          "text": [
            "100%|██████████| 15/15 [12:08<00:00, 48.58s/it]\n"
          ],
          "name": "stderr"
        }
      ]
    },
    {
      "cell_type": "code",
      "metadata": {
        "colab": {
          "base_uri": "https://localhost:8080/"
        },
        "id": "tvODVFVHNa8p",
        "outputId": "7c8e5e89-03f7-47a9-a892-80675cd529d9"
      },
      "source": [
        "import itertools, tqdm\n",
        "\n",
        "#fucked up model for all combos\n",
        "for fst, snd in tqdm.tqdm(list(itertools.combinations(class_names, 2))):\n",
        "    for i in range(50):\n",
        "        first_class = class_names.index(fst)\n",
        "        second_class = class_names.index(snd)\n",
        "        confused_train_labels = introduce_confusion_between_two_classes(train_labels, first_class, second_class)\n",
        "        train_experiment(f'checkpoint_{fst}_{snd}_{i}', confused_train_labels, silent=True, load=False)"
      ],
      "execution_count": 12,
      "outputs": [
        {
          "output_type": "stream",
          "text": [
            "\n",
            "  0%|          | 0/45 [00:00<?, ?it/s]\u001b[A\n",
            "  2%|▏         | 1/45 [00:02<01:57,  2.67s/it]\u001b[A\n",
            "  4%|▍         | 2/45 [00:05<01:54,  2.67s/it]\u001b[A\n",
            "  7%|▋         | 3/45 [00:08<01:52,  2.68s/it]\u001b[A\n",
            "  9%|▉         | 4/45 [00:10<01:49,  2.68s/it]\u001b[A\n",
            " 11%|█         | 5/45 [00:13<01:47,  2.70s/it]\u001b[A\n",
            " 13%|█▎        | 6/45 [00:16<01:52,  2.89s/it]\u001b[A\n",
            " 16%|█▌        | 7/45 [00:19<01:47,  2.82s/it]\u001b[A\n",
            " 18%|█▊        | 8/45 [00:22<01:42,  2.77s/it]\u001b[A\n",
            " 20%|██        | 9/45 [00:24<01:38,  2.73s/it]\u001b[A\n",
            " 22%|██▏       | 10/45 [00:27<01:35,  2.72s/it]\u001b[A\n",
            " 24%|██▍       | 11/45 [00:30<01:32,  2.71s/it]\u001b[A\n",
            " 27%|██▋       | 12/45 [00:32<01:28,  2.69s/it]\u001b[A\n",
            " 29%|██▉       | 13/45 [00:35<01:25,  2.68s/it]\u001b[A\n",
            " 31%|███       | 14/45 [00:38<01:30,  2.91s/it]\u001b[A\n",
            " 33%|███▎      | 15/45 [00:41<01:25,  2.84s/it]\u001b[A\n",
            " 36%|███▌      | 16/45 [00:44<01:21,  2.80s/it]\u001b[A\n",
            " 38%|███▊      | 17/45 [00:46<01:17,  2.78s/it]\u001b[A\n",
            " 40%|████      | 18/45 [00:49<01:13,  2.74s/it]\u001b[A\n",
            " 42%|████▏     | 19/45 [00:52<01:10,  2.71s/it]\u001b[A\n",
            " 44%|████▍     | 20/45 [00:54<01:07,  2.69s/it]\u001b[A\n",
            " 47%|████▋     | 21/45 [00:57<01:04,  2.67s/it]\u001b[A\n",
            " 49%|████▉     | 22/45 [01:00<01:01,  2.68s/it]\u001b[A\n",
            " 51%|█████     | 23/45 [01:02<00:58,  2.67s/it]\u001b[A\n",
            " 53%|█████▎    | 24/45 [01:06<01:01,  2.92s/it]\u001b[A\n",
            " 56%|█████▌    | 25/45 [01:09<00:57,  2.86s/it]\u001b[A\n",
            " 58%|█████▊    | 26/45 [01:11<00:53,  2.80s/it]\u001b[A\n",
            " 60%|██████    | 27/45 [01:14<00:49,  2.76s/it]\u001b[A\n",
            " 62%|██████▏   | 28/45 [01:17<00:46,  2.74s/it]\u001b[A\n",
            " 64%|██████▍   | 29/45 [01:19<00:43,  2.71s/it]\u001b[A\n",
            " 67%|██████▋   | 30/45 [01:22<00:40,  2.69s/it]\u001b[A\n",
            " 69%|██████▉   | 31/45 [01:25<00:37,  2.68s/it]\u001b[A\n",
            " 71%|███████   | 32/45 [01:27<00:34,  2.66s/it]\u001b[A\n",
            " 73%|███████▎  | 33/45 [01:30<00:31,  2.66s/it]\u001b[A\n",
            " 76%|███████▌  | 34/45 [01:33<00:29,  2.66s/it]\u001b[A\n",
            " 78%|███████▊  | 35/45 [01:35<00:26,  2.66s/it]\u001b[A\n",
            " 80%|████████  | 36/45 [01:39<00:26,  2.98s/it]\u001b[A\n",
            " 82%|████████▏ | 37/45 [01:42<00:23,  2.89s/it]\u001b[A\n",
            " 84%|████████▍ | 38/45 [01:44<00:19,  2.81s/it]\u001b[A\n",
            " 87%|████████▋ | 39/45 [01:47<00:16,  2.76s/it]\u001b[A\n",
            " 89%|████████▉ | 40/45 [01:49<00:13,  2.73s/it]\u001b[A\n",
            " 91%|█████████ | 41/45 [01:52<00:10,  2.71s/it]\u001b[A\n",
            " 93%|█████████▎| 42/45 [01:55<00:08,  2.69s/it]\u001b[A\n",
            " 96%|█████████▌| 43/45 [01:57<00:05,  2.69s/it]\u001b[A\n",
            " 98%|█████████▊| 44/45 [02:00<00:02,  2.69s/it]\u001b[A\n",
            "100%|██████████| 45/45 [02:03<00:00,  2.74s/it]\n"
          ],
          "name": "stderr"
        }
      ]
    }
  ]
}